{
 "cells": [
  {
   "cell_type": "code",
   "execution_count": 49,
   "id": "cac83dc4",
   "metadata": {},
   "outputs": [],
   "source": [
    "import numpy as np\n",
    "import matplotlib.pyplot as plt\n",
    "from docplex.mp.model import Model\n",
    "        \n",
    "class EnergyStorage:\n",
    "    def __init__(self, name, maxPower, initTermSOC, maxCapacity, chgEfficiency, disEfficiency):\n",
    "        self.name = name\n",
    "        self.maxPower = maxPower\n",
    "        self.initSOC = initTermSOC[0]\n",
    "        self.termSOC = initTermSOC[1]\n",
    "        self.maxCapacity = maxCapacity\n",
    "        self.chgEfficiency = 1\n",
    "        self.disEfficiency = 0.93"
   ]
  },
  {
   "cell_type": "code",
   "execution_count": 50,
   "id": "a2e7bb6f",
   "metadata": {
    "scrolled": false
   },
   "outputs": [],
   "source": [
    "### Load data\n",
    "price = [38.8 for i in range(9)]+[82.3]+[145.2 for i in range(2)]+[82.3]+[145.2 for i in range(4)]+[82.4 for i in range(6)]+[38.8]\n",
    "load = [0,0,0,0,0,\n",
    "        0,0,0,0,0,\n",
    "        0,0,0,0,0,\n",
    "        0,0,0,0,0,\n",
    "        0,0,0,0]\n",
    "\n",
    "SOC_ESS_MIN = 0.2\n",
    "SOC_ESS_MAX = 0.8\n",
    "SOC_ESS_INIT = 0.5\n",
    "SOC_ESS_TERM = 0.5\n",
    "\n",
    "gistEss = EnergyStorage('gistESS', 250, [SOC_ESS_INIT, SOC_ESS_TERM], 750, 1, 0.93)\n",
    "\n",
    "### Set number of variables\n",
    "nTimeslot = len(load)"
   ]
  },
  {
   "cell_type": "code",
   "execution_count": 59,
   "id": "4b52725a",
   "metadata": {},
   "outputs": [
    {
     "data": {
      "text/plain": [
       "959.1000000000004"
      ]
     },
     "execution_count": 59,
     "metadata": {},
     "output_type": "execute_result"
    }
   ],
   "source": [
    "sum(0.5*price[i] for i in range(24))"
   ]
  },
  {
   "cell_type": "code",
   "execution_count": 51,
   "id": "b9deed5c",
   "metadata": {},
   "outputs": [
    {
     "data": {
      "text/plain": [
       "docplex.mp.LinearConstraint[](0.001x1+0.001x2+0.001x3+0.001x4+0.001x5+0.001x6+0.001x7+0.001x8+0.001x9+0.001x10+0.001x11+0.001x12+0.001x13+0.001x14+0.001x15+0.001x16+0.001x17+0.001x18+0.001x19+0.001x20+0.001x21+0.001x22+0.001x23+0.001x24-0.001x25-0.001x26-0.001x27-0.001x28-0.001x29-0.001x30-0.001x31-0.001x32-0.001x33-0.001x34-0.001x35-0.001x36-0.001x37-0.001x38-0.001x39-0.001x40-0.001x41-0.001x42-0.001x43-0.001x44-0.001x45-0.001x46-0.001x47-0.001x48+0.500,EQ,0.5)"
      ]
     },
     "execution_count": 51,
     "metadata": {},
     "output_type": "execute_result"
    }
   ],
   "source": [
    "##### MILP #####\n",
    "# 최적화 변수들에는 기존에 정한 naming rule을 따르지 않고 보편적으로 사용되는 변수 알파벳을 사용\n",
    "# 변수 알파벳 옆의 아래 첨자는 '_'를 이용해 표시했고 아래 첨자는 가능한 naming rule을 따름\n",
    "\n",
    "m = Model(name='Unit Commitment')\n",
    "\n",
    "### 변수 생성\n",
    "P_essChg = m.continuous_var_list(nTimeslot, lb=0, ub=250)\n",
    "P_essDis = m.continuous_var_list(nTimeslot, lb=0, ub=250)\n",
    "U_essChg = m.binary_var_list(nTimeslot)\n",
    "U_essDis = m.binary_var_list(nTimeslot)\n",
    "\n",
    "### 제약조건\n",
    "# 모든전원 최소 최대 출력 제약, ONOFF 제약, 수급균형 제약\n",
    "for i in range(nTimeslot):\n",
    "    m.add_constraint( P_essDis[i] <= U_essDis[i]*gistEss.maxPower )\n",
    "    m.add_constraint( P_essChg[i] <= U_essChg[i]*gistEss.maxPower )\n",
    "    m.add_constraint( U_essDis[i] + U_essChg[i] <= 1 )\n",
    "    \n",
    "# SOC 제약\n",
    "    #충방전시 minMaxSOC 유지\n",
    "for i in range(nTimeslot):\n",
    "        m.add_constraint( gistEss.initSOC\n",
    "                          - sum(P_essDis[k]/gistEss.disEfficiency/gistEss.maxCapacity\n",
    "                                for k in range(i + 1))\n",
    "                          + sum(P_essChg[k]*gistEss.chgEfficiency/gistEss.maxCapacity\n",
    "                                for k in range(i + 1)) <=  SOC_ESS_MAX )\n",
    "        m.add_constraint( gistEss.initSOC\n",
    "                          - sum(P_essDis[k]/gistEss.disEfficiency/gistEss.maxCapacity\n",
    "                                for k in range(i + 1))\n",
    "                          + sum(P_essChg[k]*gistEss.chgEfficiency/gistEss.maxCapacity\n",
    "                                for k in range(i + 1)) >=  SOC_ESS_MIN )\n",
    "        \n",
    "    #24시간 후 termSOC equal condition\n",
    "m.add_constraint(gistEss.initSOC \n",
    "                 - sum(P_essDis[k]/gistEss.disEfficiency/gistEss.maxCapacity for k in range(nTimeslot))\n",
    "                 + sum(P_essChg[k]*gistEss.chgEfficiency/gistEss.maxCapacity for k in range(nTimeslot))\n",
    "                 ==  gistEss.termSOC )\n",
    "    \n",
    "\n"
   ]
  },
  {
   "cell_type": "code",
   "execution_count": 52,
   "id": "80be9848",
   "metadata": {},
   "outputs": [
    {
     "name": "stdout",
     "output_type": "stream",
     "text": [
      "Model: Unit Commitment\n",
      " - number of variables: 96\n",
      "   - binary=48, integer=0, continuous=48\n",
      " - number of constraints: 121\n",
      "   - linear=121\n",
      " - parameters: defaults\n",
      " - objective: minimize\n",
      " - problem type is: MILP\n",
      "-56490.20000000001\n"
     ]
    }
   ],
   "source": [
    "### 목적함수\n",
    "m.set_objective(\"min\", sum((load[i]+P_essChg[i]-P_essDis[i])*price[i] for i in range(24)))\n",
    "                               \n",
    "m.print_information()\n",
    "sol = m.solve()\n",
    "print(m.objective_value)\n",
    "\n",
    "### Solution 저장\n",
    "\n",
    "P_essDisSol = np.zeros([nTimeslot])\n",
    "P_essChgSol = np.zeros([nTimeslot])\n",
    "U_essDisSol = np.zeros([nTimeslot])\n",
    "U_essChgSol = np.zeros([nTimeslot])\n",
    "\n",
    "socEss = np.zeros([nTimeslot])\n",
    "for i in range(nTimeslot):\n",
    "        P_essDisSol[i] = sol.get_value(P_essDis[i])\n",
    "        P_essChgSol[i] = sol.get_value(P_essChg[i])\n",
    "        U_essDisSol[i] = sol.get_value(U_essDis[i])\n",
    "        U_essChgSol[i] = sol.get_value(U_essChg[i])\n",
    "        socEss[i] = (gistEss.initSOC \n",
    "                        - sum(P_essDisSol[k]/gistEss.disEfficiency/gistEss.maxCapacity for k in range(i + 1)) \n",
    "                        + sum(P_essChgSol[k]*gistEss.chgEfficiency/gistEss.maxCapacity for k in range(i + 1)))"
   ]
  },
  {
   "cell_type": "code",
   "execution_count": 66,
   "id": "97db1ed9",
   "metadata": {
    "scrolled": true
   },
   "outputs": [
    {
     "name": "stdout",
     "output_type": "stream",
     "text": [
      "[   0.  -225.     0.     0.     0.     0.     0.     0.     0.     0.\n",
      "  250.   168.5 -250.   232.5    0.     0.     0.     0.     0.     0.\n",
      "    0.     0.     0.  -225. ]\n",
      "[0, 0, 0, 0, 0, 0, 0, 0, 0, 0, 0, 0, 0, 0, 0, 0, 0, 0, 0, 0, 0, 0, 0, 0]\n"
     ]
    },
    {
     "data": {
      "image/png": "[encoded data removed]",
      "text/plain": [
       "<Figure size 432x288 with 1 Axes>"
      ]
     },
     "metadata": {
      "needs_background": "light"
     },
     "output_type": "display_data"
    }
   ],
   "source": [
    "plt.plot(P_essDisSol, label='P_essDis')\n",
    "plt.plot(-P_essChgSol, label='P_essChg')\n",
    "plt.legend()\n",
    "\n",
    "print(P_essDisSol-P_essChgSol)\n",
    "print(load)"
   ]
  },
  {
   "cell_type": "code",
   "execution_count": 70,
   "id": "279f03b3",
   "metadata": {
    "scrolled": false
   },
   "outputs": [
    {
     "data": {
      "text/plain": [
       "[<matplotlib.lines.Line2D at 0x2298a9f7400>]"
      ]
     },
     "execution_count": 70,
     "metadata": {},
     "output_type": "execute_result"
    },
    {
     "data": {
      "image/png": "[encoded data removed]",
      "text/plain": [
       "<Figure size 432x288 with 1 Axes>"
      ]
     },
     "metadata": {
      "needs_background": "light"
     },
     "output_type": "display_data"
    }
   ],
   "source": [
    "plt.plot(socEss)"
   ]
  },
  {
   "cell_type": "code",
   "execution_count": 71,
   "id": "f6d3ed26",
   "metadata": {},
   "outputs": [
    {
     "data": {
      "text/plain": [
       "<matplotlib.legend.Legend at 0x2298aa575e0>"
      ]
     },
     "execution_count": 71,
     "metadata": {},
     "output_type": "execute_result"
    },
    {
     "data": {
      "image/png": "[encoded data removed]",
      "text/plain": [
       "<Figure size 432x288 with 1 Axes>"
      ]
     },
     "metadata": {
      "needs_background": "light"
     },
     "output_type": "display_data"
    }
   ],
   "source": [
    "plt.plot(U_essDisSol, label='essDis')\n",
    "plt.plot(U_essChgSol, label='essChg')\n",
    "plt.legend()"
   ]
  }
 ],
 "metadata": {
  "kernelspec": {
   "display_name": "Python 3 (ipykernel)",
   "language": "python",
   "name": "python3"
  },
  "language_info": {
   "codemirror_mode": {
    "name": "ipython",
    "version": 3
   },
   "file_extension": ".py",
   "mimetype": "text/x-python",
   "name": "python",
   "nbconvert_exporter": "python",
   "pygments_lexer": "ipython3",
   "version": "3.9.12"
  }
 },
 "nbformat": 4,
 "nbformat_minor": 5
}
