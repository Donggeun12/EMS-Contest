{
 "cells": [
  {
   "cell_type": "code",
   "execution_count": 1,
   "id": "cac83dc4",
   "metadata": {},
   "outputs": [],
   "source": [
    "import pandas as pd\n",
    "import numpy as np\n",
    "import matplotlib.pyplot as plt\n",
    "from docplex.mp.model import Model\n",
    "        \n",
    "class EnergyStorage:\n",
    "    def __init__(self, name, maxPower, initTermSOC, maxCapacity, chgEfficiency, disEfficiency):\n",
    "        self.name = name\n",
    "        self.maxPower = maxPower\n",
    "        self.initSOC = initTermSOC[0]\n",
    "        self.termSOC = initTermSOC[1]\n",
    "        self.maxCapacity = maxCapacity\n",
    "        self.chgEfficiency = chgEfficiency\n",
    "        self.disEfficiency = disEfficiency"
   ]
  },
  {
   "cell_type": "code",
   "execution_count": 23,
   "id": "a2e7bb6f",
   "metadata": {
    "scrolled": false
   },
   "outputs": [],
   "source": [
    "#계절별 가격표\n",
    "spring_fall_price = [38.8 for i in range(9)]+[53.0]+[72.8 for i in range(2)]+[53.0]+[72.8 for i in range(4)]+[53.0 for i in range(6)]+[38.8]\n",
    "summer_price = [38.8 for i in range(9)]+[82.3]+[145.2 for i in range(2)]+[82.3]+[145.2 for i in range(4)]+[82.4 for i in range(6)]+[38.8]\n",
    "winter_price = [42.6 for i in range(9)]+[80.6]+[117.9 for i in range(2)]+[80.6 for i in range(5)]+[117.9 for i in range(3)]+[80.6 for i in range(2)]+[117.9, 42.6]\n",
    "month = 11\n",
    "if (6 <= month)&(month<=8):\n",
    "    price = summer_price\n",
    "elif (11<=month)|(month<=2):\n",
    "    price = winter_price\n",
    "else:\n",
    "    price = spring_fall_price\n",
    "\n",
    "### Load data\n",
    "load = [30]*24\n",
    "\n",
    "SOC_ESS_MIN = 0.2\n",
    "SOC_ESS_MAX = 0.8\n",
    "SOC_ESS_INIT = 0.5\n",
    "SOC_ESS_TERM = 0.5\n",
    "chgEfficiency = 1\n",
    "disEfficiency = 0.93\n",
    "\n",
    "gistEss = EnergyStorage('gistESS', 250, [SOC_ESS_INIT, SOC_ESS_TERM], 750, chgEfficiency, disEfficiency)\n",
    "\n",
    "### Set number of variables\n",
    "nTimeslot = len(load)"
   ]
  },
  {
   "cell_type": "code",
   "execution_count": 24,
   "id": "c5967a98",
   "metadata": {},
   "outputs": [
    {
     "name": "stdout",
     "output_type": "stream",
     "text": [
      "False\n",
      "[42.6, 42.6, 42.6, 42.6, 42.6, 42.6, 42.6, 42.6, 42.6, 80.6, 117.9, 117.9, 80.6, 80.6, 80.6, 80.6, 80.6, 117.9, 117.9, 117.9, 80.6, 80.6, 117.9, 42.6]\n"
     ]
    }
   ],
   "source": [
    "print((11<=month)&(month<=2))\n",
    "print(price)"
   ]
  },
  {
   "cell_type": "code",
   "execution_count": 25,
   "id": "b9deed5c",
   "metadata": {},
   "outputs": [
    {
     "data": {
      "text/plain": [
       "docplex.mp.LinearConstraint[](0.001x1+0.001x2+0.001x3+0.001x4+0.001x5+0.001x6+0.001x7+0.001x8+0.001x9+0.001x10+0.001x11+0.001x12+0.001x13+0.001x14+0.001x15+0.001x16+0.001x17+0.001x18+0.001x19+0.001x20+0.001x21+0.001x22+0.001x23+0.001x24-0.001x25-0.001x26-0.001x27-0.001x28-0.001x29-0.001x30-0.001x31-0.001x32-0.001x33-0.001x34-0.001x35-0.001x36-0.001x37-0.001x38-0.001x39-0.001x40-0.001x41-0.001x42-0.001x43-0.001x44-0.001x45-0.001x46-0.001x47-0.001x48+0.500,EQ,0.5)"
      ]
     },
     "execution_count": 25,
     "metadata": {},
     "output_type": "execute_result"
    }
   ],
   "source": [
    "##### MILP #####\n",
    "# 최적화 변수들에는 기존에 정한 naming rule을 따르지 않고 보편적으로 사용되는 변수 알파벳을 사용\n",
    "# 변수 알파벳 옆의 아래 첨자는 '_'를 이용해 표시했고 아래 첨자는 가능한 naming rule을 따름\n",
    "\n",
    "m = Model(name='Unit Commitment')\n",
    "\n",
    "### 변수 생성\n",
    "P_essChg = m.continuous_var_list(nTimeslot, lb=0, ub=250)\n",
    "P_essDis = m.continuous_var_list(nTimeslot, lb=0, ub=250)\n",
    "U_essChg = m.binary_var_list(nTimeslot)\n",
    "U_essDis = m.binary_var_list(nTimeslot)\n",
    "\n",
    "### 제약조건\n",
    "# 모든전원 최소 최대 출력 제약, ONOFF 제약, 수급균형 제약\n",
    "for i in range(nTimeslot):\n",
    "    m.add_constraint( P_essDis[i] <= U_essDis[i]*gistEss.maxPower )\n",
    "    m.add_constraint( P_essChg[i] <= U_essChg[i]*gistEss.maxPower )\n",
    "    m.add_constraint( U_essDis[i] + U_essChg[i] <= 1 )\n",
    "    m.add_constraint( P_essDis[i] <= load[i] ) #부하 이상의 전력은 방전 불가.\n",
    "    \n",
    "# SOC 제약\n",
    "    #충방전시 minMaxSOC 유지\n",
    "for i in range(nTimeslot):\n",
    "        m.add_constraint( gistEss.initSOC\n",
    "                          - sum(P_essDis[k]/gistEss.disEfficiency/gistEss.maxCapacity\n",
    "                                for k in range(i + 1))\n",
    "                          + sum(P_essChg[k]*gistEss.chgEfficiency/gistEss.maxCapacity\n",
    "                                for k in range(i + 1)) <=  SOC_ESS_MAX )\n",
    "        m.add_constraint( gistEss.initSOC\n",
    "                          - sum(P_essDis[k]/gistEss.disEfficiency/gistEss.maxCapacity\n",
    "                                for k in range(i + 1))\n",
    "                          + sum(P_essChg[k]*gistEss.chgEfficiency/gistEss.maxCapacity\n",
    "                                for k in range(i + 1)) >=  SOC_ESS_MIN )\n",
    "        \n",
    "    #24시간 후 termSOC equal condition\n",
    "m.add_constraint(gistEss.initSOC \n",
    "                 - sum(P_essDis[k]/gistEss.disEfficiency/gistEss.maxCapacity for k in range(nTimeslot))\n",
    "                 + sum(P_essChg[k]*gistEss.chgEfficiency/gistEss.maxCapacity for k in range(nTimeslot))\n",
    "                 ==  gistEss.termSOC )\n",
    "    \n",
    "\n"
   ]
  },
  {
   "cell_type": "code",
   "execution_count": 26,
   "id": "80be9848",
   "metadata": {
    "scrolled": true
   },
   "outputs": [
    {
     "name": "stdout",
     "output_type": "stream",
     "text": [
      "Model: Unit Commitment\n",
      " - number of variables: 96\n",
      "   - binary=48, integer=0, continuous=48\n",
      " - number of constraints: 145\n",
      "   - linear=145\n",
      " - parameters: defaults\n",
      " - objective: minimize\n",
      " - problem type is: MILP\n",
      "32070.9\n"
     ]
    }
   ],
   "source": [
    "### 목적함수\n",
    "m.set_objective(\"min\", sum((load[i]+P_essChg[i]-P_essDis[i])*price[i] for i in range(24)))\n",
    "                               \n",
    "m.print_information()\n",
    "sol = m.solve()\n",
    "print(m.objective_value)\n",
    "\n",
    "### Solution 저장\n",
    "\n",
    "P_essDisSol = np.zeros([nTimeslot])\n",
    "P_essChgSol = np.zeros([nTimeslot])\n",
    "U_essDisSol = np.zeros([nTimeslot])\n",
    "U_essChgSol = np.zeros([nTimeslot])\n",
    "\n",
    "socEss = np.zeros([nTimeslot])\n",
    "for i in range(nTimeslot):\n",
    "        P_essDisSol[i] = sol.get_value(P_essDis[i])\n",
    "        P_essChgSol[i] = sol.get_value(P_essChg[i])\n",
    "        U_essDisSol[i] = sol.get_value(U_essDis[i])\n",
    "        U_essChgSol[i] = sol.get_value(U_essChg[i])\n",
    "        socEss[i] = (gistEss.initSOC \n",
    "                        - sum(P_essDisSol[k]/gistEss.disEfficiency/gistEss.maxCapacity for k in range(i + 1)) \n",
    "                        + sum(P_essChgSol[k]*gistEss.chgEfficiency/gistEss.maxCapacity for k in range(i + 1)))"
   ]
  },
  {
   "cell_type": "code",
   "execution_count": 54,
   "id": "97db1ed9",
   "metadata": {
    "scrolled": true
   },
   "outputs": [
    {
     "name": "stdout",
     "output_type": "stream",
     "text": [
      "[   0.     0.     0.     0.     0.     0.     0.     0.  -225.    30.\n",
      "   30.    30.    30.    30.    30.    30.    30.    30.    30.    30.\n",
      "   30.    28.5   30.  -225. ]\n",
      "[30, 30, 30, 30, 30, 30, 30, 30, 30, 30, 30, 30, 30, 30, 30, 30, 30, 30, 30, 30, 30, 30, 30, 30]\n"
     ]
    },
    {
     "data": {
      "image/png": "[encoded data removed]",
      "text/plain": [
       "<Figure size 432x288 with 1 Axes>"
      ]
     },
     "metadata": {
      "needs_background": "light"
     },
     "output_type": "display_data"
    }
   ],
   "source": [
    "hours = np.arange(24)\n",
    "fig, ax = plt.subplots()\n",
    "ax.bar(hours, P_essDisSol, label='P_essDis')\n",
    "ax.bar(hours, P_essChgSol, label='P_essChg')\n",
    "ax.legend()\n",
    "ax.set_title('Charge and discharge amount')\n",
    "\n",
    "print(P_essDisSol-P_essChgSol)\n",
    "print(load)"
   ]
  },
  {
   "cell_type": "code",
   "execution_count": 52,
   "id": "279f03b3",
   "metadata": {
    "scrolled": false
   },
   "outputs": [
    {
     "data": {
      "text/plain": [
       "Text(0.5, 1.0, 'SOC')"
      ]
     },
     "execution_count": 52,
     "metadata": {},
     "output_type": "execute_result"
    },
    {
     "data": {
      "image/png": "[encoded data removed]",
      "text/plain": [
       "<Figure size 432x288 with 1 Axes>"
      ]
     },
     "metadata": {
      "needs_background": "light"
     },
     "output_type": "display_data"
    }
   ],
   "source": [
    "fig, ax = plt.subplots()\n",
    "ax.bar(hours, socEss)\n",
    "ax.set_title('SOC')"
   ]
  },
  {
   "cell_type": "code",
   "execution_count": 45,
   "id": "f6d3ed26",
   "metadata": {},
   "outputs": [
    {
     "data": {
      "text/plain": [
       "<matplotlib.legend.Legend at 0x1d71a0c7370>"
      ]
     },
     "execution_count": 45,
     "metadata": {},
     "output_type": "execute_result"
    },
    {
     "data": {
      "image/png": "[encoded data removed]",
      "text/plain": [
       "<Figure size 432x288 with 1 Axes>"
      ]
     },
     "metadata": {
      "needs_background": "light"
     },
     "output_type": "display_data"
    }
   ],
   "source": [
    "fig, ax = plt.subplots()\n",
    "ax.bar(hours, U_essDisSol, label='essDis')\n",
    "ax.bar(hours, -U_essChgSol, label='essChg')\n",
    "ax.set_yticks([-1, 0, 1])  # note that we don't need to specify labels\n",
    "ax.set_title('charge discharge')\n",
    "ax.legend()"
   ]
  },
  {
   "cell_type": "code",
   "execution_count": null,
   "id": "5b66e109",
   "metadata": {},
   "outputs": [],
   "source": []
  },
  {
   "cell_type": "code",
   "execution_count": null,
   "id": "f2c52c69",
   "metadata": {},
   "outputs": [],
   "source": []
  }
 ],
 "metadata": {
  "kernelspec": {
   "display_name": "Python 3.9.13 64-bit",
   "language": "python",
   "name": "python3"
  },
  "language_info": {
   "codemirror_mode": {
    "name": "ipython",
    "version": 3
   },
   "file_extension": ".py",
   "mimetype": "text/x-python",
   "name": "python",
   "nbconvert_exporter": "python",
   "pygments_lexer": "ipython3",
   "version": "3.9.13"
  },
  "vscode": {
   "interpreter": {
    "hash": "c5b2cf58eb262e448e069a8fb250af4ddc64119e452df3d7801e6baffe9deb66"
   }
  }
 },
 "nbformat": 4,
 "nbformat_minor": 5
}
