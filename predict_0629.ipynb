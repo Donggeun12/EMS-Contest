{
 "cells": [
  {
   "cell_type": "code",
   "execution_count": 46,
   "metadata": {
    "colab": {
     "base_uri": "https://localhost:8080/"
    },
    "id": "2kMgd-Hse-CG",
    "outputId": "974afeef-54f1-4486-bbd1-7dd6c4d2fc5a",
    "scrolled": true
   },
   "outputs": [],
   "source": [
    "import tensorflow as tf\n",
    "import pandas as pd\n",
    "import numpy as np\n",
    "from tensorflow import keras\n",
    "from keras import layers\n",
    "from keras.utils.vis_utils import plot_model\n",
    "\n",
    "\n",
    "def month_day(month):\n",
    "  if month == 2:\n",
    "    return 28\n",
    "  elif month < 8:\n",
    "    return 30+month%2\n",
    "  else:\n",
    "    return 31-month%2\n",
    "\n",
    "def day_count(month):\n",
    "  sum = 0\n",
    "  for i in range(1,month):\n",
    "    sum += month_day(i)\n",
    "  return sum\n",
    "\n",
    "def load_data_set(data):\n",
    "  col_name = list(data.columns)\n",
    "  col_name.pop(0)\n",
    "  _X=[]\n",
    "  _y=[]\n",
    "  x_values=[]\n",
    "  y_values=[]\n",
    "  for i in range(0,len(col_name)):\n",
    "    date = col_name[i]\n",
    "    y_values = list(data[date])\n",
    "    x_values = date.split('-')\n",
    "    x_values = [int(x) for x in x_values]\n",
    "    for j in range(0,24):\n",
    "      sum=0\n",
    "      sum += (x_values[0] - 2020)*8760 + 24 + day_count(x_values[1])*24 + (x_values[2]-1)*24 + j\n",
    "      _X.append(sum)\n",
    "      _y.append(y_values[j])\n",
    "  return _X,_y\n",
    "\n",
    "def load_temp_set(data):\n",
    "  col_name = list(data.columns)\n",
    "  date = col_name[0]\n",
    "  temp = col_name[1]\n",
    "  rain = col_name[2]\n",
    "  wind = col_name[3]\n",
    "  humid = col_name[4]\n",
    "  sunshine = col_name[5]\n",
    "  radiation = col_name[6]\n",
    "  cloud = col_name[7]\n",
    "  date_set = list(data[date])\n",
    "  temp_set = list(data[temp])\n",
    "  rain_set = list(data[rain])\n",
    "  wind_set = list(data[wind])\n",
    "  humid_set = list(data[humid])\n",
    "  sunshine_set = list(data[sunshine])\n",
    "  radiation_set = list(data[radiation])\n",
    "  cloud_set = list(data[cloud])\n",
    "\n",
    "  date_sum = []\n",
    "  for i in date_set:\n",
    "    sum = 0\n",
    "    a = i.split(' ')\n",
    "    date = a[0].split('-')\n",
    "    date = [int(x) for x in date]\n",
    "    sum += (date[0] - 2020)*8760 + 24 + day_count(date[1])*24 + (date[2]-1)*24\n",
    "    hour = a[1].split(':')\n",
    "    hour = [int(x) for x in hour]\n",
    "    sum += hour[0]\n",
    "    date_sum.append(sum)\n",
    "  return date_sum,temp_set,rain_set,wind_set,humid_set,sunshine_set,radiation_set,cloud_set\n"
   ]
  },
  {
   "cell_type": "code",
   "execution_count": 47,
   "metadata": {},
   "outputs": [],
   "source": [
    "load_data = pd.read_csv('sol_generated_power.csv')\n",
    "load_temp_val = pd.read_csv('climate_2022_0629_0809.csv',encoding='cp949')\n",
    "load_temp_val = load_temp.fillna(0)\n",
    "\n",
    "data_X, data_y = load_data_set(load_data)\n",
    "\n",
    "date_set,temp_set,rain_set,wind_set,humid_set,sunshine_set,radiation_set,cloud_set = load_temp_set(load_temp)"
   ]
  },
  {
   "cell_type": "code",
   "execution_count": 48,
   "metadata": {},
   "outputs": [],
   "source": [
    "input_0629 = [[temp_set[i],humid_set[i], radiation_set[i], cloud_set[i]]for i in range(24)]"
   ]
  },
  {
   "cell_type": "code",
   "execution_count": 49,
   "metadata": {
    "scrolled": true
   },
   "outputs": [
    {
     "data": {
      "text/plain": [
       "[[26.2, 97, 0.0, 9.0],\n",
       " [26.1, 96, 0.0, 9.0],\n",
       " [26.3, 94, 0.0, 9.0],\n",
       " [26.5, 94, 0.0, 9.0],\n",
       " [26.5, 94, 0.0, 10.0],\n",
       " [26.2, 98, 0.05, 10.0],\n",
       " [25.6, 99, 0.1, 10.0],\n",
       " [25.0, 99, 0.28, 10.0],\n",
       " [25.3, 99, 0.66, 10.0],\n",
       " [25.8, 99, 1.14, 10.0],\n",
       " [26.5, 99, 1.97, 10.0],\n",
       " [28.2, 99, 1.73, 10.0],\n",
       " [28.0, 95, 1.8, 10.0],\n",
       " [27.8, 97, 1.25, 10.0],\n",
       " [28.2, 98, 1.01, 10.0],\n",
       " [28.8, 88, 1.41, 10.0],\n",
       " [28.1, 92, 0.95, 10.0],\n",
       " [27.2, 99, 0.35, 10.0],\n",
       " [26.7, 99, 0.21, 10.0],\n",
       " [26.2, 99, 0.08, 10.0],\n",
       " [25.3, 99, 0.0, 10.0],\n",
       " [25.4, 99, 0.0, 10.0],\n",
       " [25.0, 99, 0.0, 5.0],\n",
       " [25.1, 99, 0.0, 10.0]]"
      ]
     },
     "execution_count": 49,
     "metadata": {},
     "output_type": "execute_result"
    }
   ],
   "source": [
    "input_0629"
   ]
  },
  {
   "cell_type": "code",
   "execution_count": 50,
   "metadata": {
    "colab": {
     "base_uri": "https://localhost:8080/",
     "height": 283
    },
    "id": "xa3ZAeWMfoZ8",
    "outputId": "59090bad-c979-48c5-f225-f30b0124a080",
    "scrolled": true
   },
   "outputs": [
    {
     "name": "stdout",
     "output_type": "stream",
     "text": [
      "1/1 [==============================] - 0s 90ms/step\n",
      "[[2.39221007e-03]\n",
      " [2.40913406e-03]\n",
      " [2.38292664e-03]\n",
      " [2.36250833e-03]\n",
      " [2.45207548e-03]\n",
      " [2.78840959e-03]\n",
      " [3.28526646e-03]\n",
      " [3.66307373e+01]\n",
      " [1.23771996e+02]\n",
      " [2.19858932e+02]\n",
      " [3.77674316e+02]\n",
      " [3.34796783e+02]\n",
      " [3.48651093e+02]\n",
      " [2.43785370e+02]\n",
      " [1.93556580e+02]\n",
      " [2.75569550e+02]\n",
      " [1.74445206e+02]\n",
      " [4.42978172e+01]\n",
      " [5.34018660e+00]\n",
      " [3.05193663e-03]\n",
      " [2.44216621e-03]\n",
      " [2.43936479e-03]\n",
      " [2.35953927e-03]\n",
      " [2.44776905e-03]]\n"
     ]
    },
    {
     "data": {
      "image/png": "[encoded data removed]",
      "text/plain": [
       "<Figure size 432x288 with 1 Axes>"
      ]
     },
     "metadata": {
      "needs_background": "light"
     },
     "output_type": "display_data"
    }
   ],
   "source": [
    "new_model = keras.models.load_model('best-model_June_July5.tf')\n",
    "\n",
    "import matplotlib.pyplot as plt\n",
    "predict = new_model.predict(input_0629)\n",
    "# plt.plot(y[751*24:],'b')\n",
    "plt.plot(predict,'r')\n",
    "plt.title('2022_0629_solar_generation')\n",
    "print(predict)\n",
    "# new_model.evaluate(X[751*24:],y[751*24:])"
   ]
  }
 ],
 "metadata": {
  "colab": {
   "collapsed_sections": [],
   "name": "solar.ipynb",
   "provenance": []
  },
  "kernelspec": {
   "display_name": "Python 3 (ipykernel)",
   "language": "python",
   "name": "python3"
  },
  "language_info": {
   "codemirror_mode": {
    "name": "ipython",
    "version": 3
   },
   "file_extension": ".py",
   "mimetype": "text/x-python",
   "name": "python",
   "nbconvert_exporter": "python",
   "pygments_lexer": "ipython3",
   "version": "3.9.12"
  }
 },
 "nbformat": 4,
 "nbformat_minor": 1
}
