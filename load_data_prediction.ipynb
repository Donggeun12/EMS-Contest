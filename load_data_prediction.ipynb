{
 "cells": [
  {
   "cell_type": "code",
   "execution_count": null,
   "metadata": {
    "colab": {
     "base_uri": "https://localhost:8080/"
    },
    "id": "2kMgd-Hse-CG",
    "outputId": "f1ff52de-05bd-4ebb-a7c1-270212837a09"
   },
   "outputs": [],
   "source": [
    "import tensorflow as tf\n",
    "import pandas as pd\n",
    "import numpy as np\n",
    "from tensorflow import keras\n",
    "from keras import layers\n",
    "from keras.utils.vis_utils import plot_model\n",
    "import matplotlib.pyplot as plt\n",
    "\n",
    "class DNN(keras.Sequential):\n",
    "  def __init__(self, layer, units, activation, input_shape, dropout_rate, optimizer, loss):\n",
    "    super().__init__()\n",
    "    self.add(layers.Dense(units=units,activation=activation,input_shape=input_shape))\n",
    "    #self.add(layers.Dropout(dropout_rate))\n",
    "    #self.add(layers.BatchNormalization())\n",
    "    for i in range(1,layer):\n",
    "      self.add(layers.Dense(units=units,activation=activation))\n",
    "      #self.add(layers.Dropout(dropout_rate))\n",
    "      #self.add(layers.BatchNormalization())\n",
    "    self.add(layers.Dense(units=1))\n",
    "    self.compile(optimizer=optimizer,loss=loss)\n",
    "\n",
    "def month_day(month):\n",
    "  if month == 2:\n",
    "    return 28\n",
    "  elif month < 8:\n",
    "    return 30+month%2\n",
    "  else:\n",
    "    return 31-month%2\n",
    "def day_count(month):\n",
    "  sum = 0\n",
    "  for i in range(1,month):\n",
    "    sum += month_day(i)\n",
    "  return sum\n",
    "\n",
    "def load_data_set(data):\n",
    "  col_name = list(data.columns)\n",
    "  col_name.pop(0)\n",
    "  _X=[]\n",
    "  _y=[]\n",
    "  x_values=[]\n",
    "  y_values=[]\n",
    "  for i in range(0,len(col_name)):\n",
    "    date = col_name[i]\n",
    "    y_values = list(data[date])\n",
    "    x_values = date.split('-')\n",
    "    x_values = [int(x) for x in x_values]\n",
    "    for j in range(0,24):\n",
    "      sum=0\n",
    "      if y_values[j] == 0 :\n",
    "        continue\n",
    "      if y_values[j] > 28000:\n",
    "        print(x_values)\n",
    "      sum += (x_values[0] - 2020)*8760 + 24 + day_count(x_values[1])*24 + (x_values[2]-1)*24 + j\n",
    "      _X.append(sum)\n",
    "      _y.append(y_values[j])\n",
    "  return _X,_y\n",
    "\n",
    "def group_split(X,y,train_size):\n",
    "  X_train = []\n",
    "  y_train = []\n",
    "  X_val = []\n",
    "  y_val = []\n",
    "  for i in range(0,3000):\n",
    "    random = np.random.uniform(0,1)\n",
    "    if random < train_size:\n",
    "      X_train.append(X[i])\n",
    "      y_train.append(y[i])\n",
    "    else:\n",
    "      X_val.append(X[i])\n",
    "      y_val.append(y[i])\n",
    "  return X_train, y_train, X_val, y_val \n",
    "\n",
    "def load_temp_set(data):\n",
    "  col_name = list(data.columns)\n",
    "  date = col_name[0]\n",
    "  temp = col_name[1]\n",
    "  humid = col_name[2]\n",
    "  date_set = list(data[date])\n",
    "  temp_set = list(data[temp])\n",
    "  humid_set = list(data[humid])\n",
    "  date_sum = []\n",
    "  for i in date_set:\n",
    "    sum = 0\n",
    "    a = i.split(' ')\n",
    "    date = a[0].split('-')\n",
    "    date = [int(x) for x in date]\n",
    "    sum += (date[0] - 2020)*8760 + 24 + day_count(date[1])*24 + (date[2]-1)*24\n",
    "    hour = a[1].split(':')\n",
    "    hour = [int(x) for x in hour]\n",
    "    sum += hour[0]\n",
    "    date_sum.append(sum)\n",
    "  return date_sum,temp_set,humid_set\n",
    "\n",
    "def combine_set(x,y,date,temp,humid):\n",
    "  _X = {0:'0'}\n",
    "  _y = {0:'0'}\n",
    "  for i in range(len(x)):\n",
    "    p = x[i]\n",
    "    _X[p] = [p]\n",
    "    _y[p] = y[i]\n",
    "  for i in range(len(date)):\n",
    "    p = date[i]\n",
    "    if p in _X:\n",
    "      _X[p].append(temp[i])\n",
    "      _X[p].append(humid[i])\n",
    "  return _X,_y\n",
    "\n",
    "def filtering_set(x,y):\n",
    "  _X=[]\n",
    "  _y=[]\n",
    "  for i in x:\n",
    "    if i==0 or len(x[i])==1:\n",
    "      continue\n",
    "    _X.append(x[i])\n",
    "    _y.append(y[i])\n",
    "  return _X,_y\n",
    "\n",
    "\n",
    "load_data = pd.read_csv('average_power.csv')\n",
    "load_temp = pd.read_csv('TempHumid.csv',encoding='cp949')\n"
   ]
  },
  {
   "cell_type": "code",
   "execution_count": null,
   "metadata": {},
   "outputs": [],
   "source": [
    "#load data 튀는 값 제거\n",
    "load_sum_list = []\n",
    "strange_data_list =[]\n",
    "for i in range(load_data.shape[1]):\n",
    "    loadSum = load_data.iloc[:,i].sum()\n",
    "    if loadSum<270000:\n",
    "        strange_data_list.append(i)\n",
    "    load_sum_list.append(loadSum)\n",
    "    \n",
    "plt.plot(load_sum_list)\n",
    "print(strange_data_list)"
   ]
  },
  {
   "cell_type": "code",
   "execution_count": null,
   "metadata": {},
   "outputs": [],
   "source": [
    "dropped_data = load_data.drop(load_data.columns[strange_data_list],axis = 1)\n",
    "\n",
    "load_sum_list1 = []\n",
    "strange_data_list1 =[]\n",
    "for i in range(dropped_data.shape[1]):\n",
    "    loadSum = dropped_data.iloc[:,i].sum()\n",
    "    load_sum_list1.append(loadSum)\n",
    "    \n",
    "plt.plot(load_sum_list1)"
   ]
  },
  {
   "cell_type": "code",
   "execution_count": null,
   "metadata": {},
   "outputs": [],
   "source": [
    "layer = 9\n",
    "units = 128\n",
    "activation = 'relu'\n",
    "train_size = 0.75\n",
    "input_shape= [3]\n",
    "dropout_rate = 0.5\n",
    "optimizer = 'adam'\n",
    "loss = 'mae'\n",
    "\n",
    "batch_size = 1\n",
    "epochs = 100\n",
    "\n",
    "data_X, data_y = load_data_set(load_data)\n",
    "\n",
    "date_set,temp_set,humid_set = load_temp_set(load_temp)\n",
    "print(date_set[0])\n",
    "raw_X,raw_y = combine_set(data_X,data_y,date_set,temp_set,humid_set)\n",
    "print(len(raw_X))\n",
    "X,y = filtering_set(raw_X,raw_y)\n",
    "print(len(X))\n",
    "print(X)\n",
    "X_train, y_train, X_val, y_val = group_split(X, y, train_size)\n",
    "\n",
    "model = DNN(layer,units,activation,input_shape,dropout_rate,optimizer,loss)\n",
    "#print(model)\n",
    "#plot_model(model, to_file='model_plot.png', show_shapes=True, show_layer_names=True)\n"
   ]
  },
  {
   "cell_type": "code",
   "execution_count": null,
   "metadata": {
    "id": "iPCaPTvgZUzb"
   },
   "outputs": [],
   "source": [
    "history = model.fit(\n",
    "    X_train, y_train,\n",
    "    validation_data=(X_val, y_val),\n",
    "    batch_size=batch_size,\n",
    "    epochs=epochs,\n",
    "    verbose=1, # suppress output since we'll plot the curves\n",
    ")"
   ]
  },
  {
   "cell_type": "code",
   "execution_count": null,
   "metadata": {},
   "outputs": [],
   "source": [
    "history.history['loss']"
   ]
  },
  {
   "cell_type": "code",
   "execution_count": null,
   "metadata": {
    "colab": {
     "base_uri": "https://localhost:8080/",
     "height": 283
    },
    "id": "fk5ltkYbcpwO",
    "outputId": "90faa4f2-a484-4949-8e82-1f976cfd7f89"
   },
   "outputs": [],
   "source": [
    "history_df = pd.DataFrame(history.history)\n",
    "history_df.loc[0:, ['loss', 'val_loss']].plot()\n",
    "print(\"Minimum Validation Loss: {:0.4f}\".format(history_df['val_loss'].min()));"
   ]
  },
  {
   "cell_type": "code",
   "execution_count": null,
   "metadata": {
    "colab": {
     "base_uri": "https://localhost:8080/"
    },
    "id": "JYbqJq80fgXs",
    "outputId": "5af6a830-53e7-4c9a-8e42-d54bd0fe8414"
   },
   "outputs": [],
   "source": [
    "model.save('model1')"
   ]
  },
  {
   "cell_type": "code",
   "execution_count": null,
   "metadata": {
    "colab": {
     "base_uri": "https://localhost:8080/",
     "height": 283
    },
    "id": "xa3ZAeWMfoZ8",
    "outputId": "1e090f1b-549e-486b-e830-926cf34b192c"
   },
   "outputs": [],
   "source": [
    "new_model = keras.models.load_model('model1')\n",
    "\n",
    "predict = model.predict(X_train)\n",
    "plt.plot(y_train,'b')\n",
    "plt.plot(predict,'r')\n"
   ]
  },
  {
   "cell_type": "code",
   "execution_count": null,
   "metadata": {
    "colab": {
     "base_uri": "https://localhost:8080/",
     "height": 283
    },
    "id": "0esQK8c-i1V1",
    "outputId": "116b488d-3b5e-44a0-ba64-c813bc83b85f"
   },
   "outputs": [],
   "source": [
    "predict = model.predict(X_val)\n",
    "plt.plot(y_val,'b')\n",
    "plt.plot(predict,'r')"
   ]
  }
 ],
 "metadata": {
  "colab": {
   "collapsed_sections": [],
   "name": "Untitled10.ipynb",
   "provenance": []
  },
  "kernelspec": {
   "display_name": "Python 3 (ipykernel)",
   "language": "python",
   "name": "python3"
  },
  "language_info": {
   "codemirror_mode": {
    "name": "ipython",
    "version": 3
   },
   "file_extension": ".py",
   "mimetype": "text/x-python",
   "name": "python",
   "nbconvert_exporter": "python",
   "pygments_lexer": "ipython3",
   "version": "3.9.12"
  }
 },
 "nbformat": 4,
 "nbformat_minor": 1
}
